{
 "cells": [
  {
   "cell_type": "code",
   "execution_count": 2,
   "id": "9d2537c1-e714-43de-bf95-c0af3016a92d",
   "metadata": {},
   "outputs": [
    {
     "data": {
      "text/html": [
       "\n",
       "        <iframe\n",
       "            width=\"100%\"\n",
       "            height=\"650\"\n",
       "            src=\"http://127.0.0.1:8050/\"\n",
       "            frameborder=\"0\"\n",
       "            allowfullscreen\n",
       "            \n",
       "        ></iframe>\n",
       "        "
      ],
      "text/plain": [
       "<IPython.lib.display.IFrame at 0x10a847e00>"
      ]
     },
     "metadata": {},
     "output_type": "display_data"
    }
   ],
   "source": [
    "import pandas as pd\n",
    "import plotly.express as px\n",
    "from dash import Dash, dcc, html, Input, Output\n",
    "\n",
    "# Load sample SpaceX launch data\n",
    "df = pd.read_csv('spacex_launch_data.csv')  # Ensure this file exists in your project folder\n",
    "\n",
    "# Initialize the Dash app\n",
    "app = Dash(__name__)\n",
    "\n",
    "# App layout\n",
    "app.layout = html.Div([\n",
    "    html.H1(\"SpaceX Launch Dashboard\", style={'textAlign': 'center'}),\n",
    "\n",
    "    dcc.Dropdown(\n",
    "        id='site-dropdown',\n",
    "        options=[{'label': site, 'value': site} for site in df['launch_site'].unique()] + \n",
    "                [{'label': 'All Sites', 'value': 'ALL'}],\n",
    "        value='ALL',\n",
    "        placeholder='Select a Launch Site',\n",
    "        searchable=True\n",
    "    ),\n",
    "\n",
    "    dcc.Graph(id='success-bar-chart'),\n",
    "    dcc.Graph(id='rocket-pie-chart')\n",
    "])\n",
    "\n",
    "# Callback for updating charts\n",
    "@app.callback(\n",
    "    Output('success-bar-chart', 'figure'),\n",
    "    Output('rocket-pie-chart', 'figure'),\n",
    "    Input('site-dropdown', 'value')\n",
    ")\n",
    "def update_charts(selected_site):\n",
    "    # Filter dataset based on dropdown selection\n",
    "    if selected_site == 'ALL':\n",
    "        filtered_df = df\n",
    "    else:\n",
    "        filtered_df = df[df['launch_site'] == selected_site]\n",
    "\n",
    "    # Bar chart: Launch Success Count\n",
    "    bar_fig = px.histogram(\n",
    "        filtered_df,\n",
    "        x='launch_success',\n",
    "        color='launch_success',\n",
    "        barmode='group',\n",
    "        labels={'launch_success': 'Launch Success'},\n",
    "        title=f'Launch Success Count for {\"All Sites\" if selected_site == \"ALL\" else selected_site}'\n",
    "    )\n",
    "\n",
    "    # Pie chart: Rocket Usage Distribution\n",
    "    pie_fig = px.pie(\n",
    "        filtered_df,\n",
    "        names='rocket_name',\n",
    "        title=f'Rocket Usage for {\"All Sites\" if selected_site == \"ALL\" else selected_site}'\n",
    "    )\n",
    "\n",
    "    return bar_fig, pie_fig\n",
    "\n",
    "# Run the Dash app\n",
    "if __name__ == '__main__':\n",
    "    app.run(debug=True)\n"
   ]
  },
  {
   "cell_type": "code",
   "execution_count": null,
   "id": "0e113f07-41e2-44ce-a7ca-cc889132e758",
   "metadata": {},
   "outputs": [],
   "source": []
  }
 ],
 "metadata": {
  "kernelspec": {
   "display_name": "Python 3 (ipykernel)",
   "language": "python",
   "name": "python3"
  },
  "language_info": {
   "codemirror_mode": {
    "name": "ipython",
    "version": 3
   },
   "file_extension": ".py",
   "mimetype": "text/x-python",
   "name": "python",
   "nbconvert_exporter": "python",
   "pygments_lexer": "ipython3",
   "version": "3.13.2"
  }
 },
 "nbformat": 4,
 "nbformat_minor": 5
}
