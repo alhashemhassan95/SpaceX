{
 "cells": [
  {
   "cell_type": "code",
   "execution_count": 1,
   "id": "a210804b-e357-4034-8d74-1101bec4bc6d",
   "metadata": {},
   "outputs": [
    {
     "name": "stdout",
     "output_type": "stream",
     "text": [
      "                   date_utc                    rocket success  \\\n",
      "0  2006-03-24T22:30:00.000Z  5e9d0d95eda69955f709d1eb   False   \n",
      "1  2007-03-21T01:10:00.000Z  5e9d0d95eda69955f709d1eb   False   \n",
      "2  2008-08-03T03:34:00.000Z  5e9d0d95eda69955f709d1eb   False   \n",
      "3  2008-09-28T23:15:00.000Z  5e9d0d95eda69955f709d1eb    True   \n",
      "4  2009-07-13T03:35:00.000Z  5e9d0d95eda69955f709d1eb    True   \n",
      "\n",
      "                  launchpad  flight_number         name  \\\n",
      "0  5e9e4502f5090995de566f86              1    FalconSat   \n",
      "1  5e9e4502f5090995de566f86              2      DemoSat   \n",
      "2  5e9e4502f5090995de566f86              3  Trailblazer   \n",
      "3  5e9e4502f5090995de566f86              4       RatSat   \n",
      "4  5e9e4502f5090995de566f86              5     RazakSat   \n",
      "\n",
      "                                             details  \n",
      "0   Engine failure at 33 seconds and loss of vehicle  \n",
      "1  Successful first stage burn and transition to ...  \n",
      "2  Residual stage 1 thrust led to collision betwe...  \n",
      "3  Ratsat was carried to orbit on the first succe...  \n",
      "4                                               None  \n"
     ]
    }
   ],
   "source": [
    "import requests\n",
    "import pandas as pd\n",
    "\n",
    "# Step 1: Send GET request to SpaceX API\n",
    "url = \"https://api.spacexdata.com/v4/launches/past\"\n",
    "response = requests.get(url)\n",
    "\n",
    "# Step 2: Receive JSON response\n",
    "data = response.json()\n",
    "\n",
    "# Step 3: Normalize JSON structure\n",
    "df = pd.json_normalize(data)\n",
    "\n",
    "# Step 4: Extract relevant features\n",
    "df_relevant = df[[\n",
    "    'date_utc',\n",
    "    'rocket',\n",
    "    'success',\n",
    "    'launchpad',\n",
    "    'flight_number',\n",
    "    'name',\n",
    "    'details'\n",
    "]]\n",
    "\n",
    "# Optional: Display the first few records\n",
    "print(df_relevant.head())\n"
   ]
  },
  {
   "cell_type": "code",
   "execution_count": null,
   "id": "577ea600-8cee-4fee-b51f-15a55bc930a8",
   "metadata": {},
   "outputs": [],
   "source": []
  }
 ],
 "metadata": {
  "kernelspec": {
   "display_name": "Python 3 (ipykernel)",
   "language": "python",
   "name": "python3"
  },
  "language_info": {
   "codemirror_mode": {
    "name": "ipython",
    "version": 3
   },
   "file_extension": ".py",
   "mimetype": "text/x-python",
   "name": "python",
   "nbconvert_exporter": "python",
   "pygments_lexer": "ipython3",
   "version": "3.13.2"
  }
 },
 "nbformat": 4,
 "nbformat_minor": 5
}
