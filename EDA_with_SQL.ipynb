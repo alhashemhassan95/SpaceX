{
 "cells": [
  {
   "cell_type": "code",
   "execution_count": 1,
   "id": "45e20417-13c4-45f4-b844-60b49359bc21",
   "metadata": {},
   "outputs": [
    {
     "name": "stdout",
     "output_type": "stream",
     "text": [
      "  mission_name launch_date      launch_site rocket_name  launch_success\n",
      "0    FalconSat  2006-03-24  Kwajalein Atoll    Falcon 1               0\n",
      "1      DemoSat  2007-03-21  Kwajalein Atoll    Falcon 1               0\n",
      "2  Trailblazer  2008-08-03  Kwajalein Atoll    Falcon 1               0\n",
      "3       RatSat  2008-09-28  Kwajalein Atoll    Falcon 1               1\n",
      "4     RazakSat  2009-07-14  Kwajalein Atoll    Falcon 1               0\n",
      "5       COTS 1  2010-06-04   Cape Canaveral    Falcon 9               1\n",
      "6       COTS 2  2012-05-22   Cape Canaveral    Falcon 9               1\n",
      "7        CRS-1  2012-10-08   Cape Canaveral    Falcon 9               1\n",
      "8        CRS-2  2013-03-01   Cape Canaveral    Falcon 9               1\n",
      "9        SES-8  2013-12-03   Cape Canaveral    Falcon 9               1\n",
      "  mission_name launch_date      launch_site rocket_name  launch_success\n",
      "0       RatSat  2008-09-28  Kwajalein Atoll    Falcon 1               1\n",
      "1       COTS 1  2010-06-04   Cape Canaveral    Falcon 9               1\n",
      "2       COTS 2  2012-05-22   Cape Canaveral    Falcon 9               1\n",
      "3        CRS-1  2012-10-08   Cape Canaveral    Falcon 9               1\n",
      "4        CRS-2  2013-03-01   Cape Canaveral    Falcon 9               1\n",
      "5        SES-8  2013-12-03   Cape Canaveral    Falcon 9               1\n",
      "       launch_site  total_launches\n",
      "0   Cape Canaveral               5\n",
      "1  Kwajalein Atoll               5\n",
      "  rocket_name  success_rate\n",
      "0    Falcon 1           0.2\n",
      "1    Falcon 9           1.0\n",
      "     month  launches\n",
      "0  2006-03         1\n",
      "1  2007-03         1\n",
      "2  2008-08         1\n",
      "3  2008-09         1\n",
      "4  2009-07         1\n",
      "5  2010-06         1\n",
      "6  2012-05         1\n",
      "7  2012-10         1\n",
      "8  2013-03         1\n",
      "9  2013-12         1\n"
     ]
    }
   ],
   "source": [
    "import pandas as pd\n",
    "import sqlite3\n",
    "\n",
    "# Step 1: Load the dataset\n",
    "df = pd.read_csv('spacex_launch_data.csv')\n",
    "\n",
    "# Step 2: Create in-memory SQLite database and write the table\n",
    "conn = sqlite3.connect(':memory:')\n",
    "df.to_sql('launches', conn, index=False, if_exists='replace')\n",
    "\n",
    "# Step 3: Run SQL Queries\n",
    "\n",
    "# 1. View all data\n",
    "query1 = \"SELECT * FROM launches;\"\n",
    "print(pd.read_sql(query1, conn))\n",
    "\n",
    "# 2. Filter successful launches\n",
    "query2 = \"SELECT * FROM launches WHERE launch_success = 1;\"\n",
    "print(pd.read_sql(query2, conn))\n",
    "\n",
    "# 3. Count launches per site\n",
    "query3 = \"SELECT launch_site, COUNT(*) AS total_launches FROM launches GROUP BY launch_site;\"\n",
    "print(pd.read_sql(query3, conn))\n",
    "\n",
    "# 4. Calculate success rate per rocket\n",
    "query4 = \"SELECT rocket_name, AVG(launch_success) AS success_rate FROM launches GROUP BY rocket_name;\"\n",
    "print(pd.read_sql(query4, conn))\n",
    "\n",
    "# 5. Launches per month (date formatted as YYYY-MM)\n",
    "query5 = \"\"\"\n",
    "SELECT strftime('%Y-%m', launch_date) AS month, COUNT(*) AS launches\n",
    "FROM launches\n",
    "GROUP BY month;\n",
    "\"\"\"\n",
    "# Ensure launch_date is datetime\n",
    "df['launch_date'] = pd.to_datetime(df['launch_date'])\n",
    "df.to_sql('launches', conn, index=False, if_exists='replace')\n",
    "print(pd.read_sql(query5, conn))\n",
    "\n",
    "# Close connection\n",
    "conn.close()\n"
   ]
  },
  {
   "cell_type": "code",
   "execution_count": null,
   "id": "94f3bee5-07c2-4d90-9af5-4cfef98009d6",
   "metadata": {},
   "outputs": [],
   "source": []
  }
 ],
 "metadata": {
  "kernelspec": {
   "display_name": "Python 3 (ipykernel)",
   "language": "python",
   "name": "python3"
  },
  "language_info": {
   "codemirror_mode": {
    "name": "ipython",
    "version": 3
   },
   "file_extension": ".py",
   "mimetype": "text/x-python",
   "name": "python",
   "nbconvert_exporter": "python",
   "pygments_lexer": "ipython3",
   "version": "3.13.2"
  }
 },
 "nbformat": 4,
 "nbformat_minor": 5
}
